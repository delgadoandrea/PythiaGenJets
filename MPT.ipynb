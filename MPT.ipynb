{
 "cells": [
  {
   "cell_type": "code",
   "execution_count": 1,
   "id": "9f3ba3df",
   "metadata": {},
   "outputs": [],
   "source": [
    "import awkward as ak\n",
    "from coffea import hist, processor\n",
    "import numpy as np\n",
    "\n",
    "# register our candidate behaviors\n",
    "from coffea.nanoevents.methods import candidate\n",
    "ak.behavior.update(candidate.behavior)"
   ]
  },
  {
   "cell_type": "code",
   "execution_count": 2,
   "id": "6af41580",
   "metadata": {},
   "outputs": [],
   "source": [
    "class MyProcessor(processor.ProcessorABC):\n",
    "    def __init__(self):\n",
    "        self._accumulator = processor.dict_accumulator({\n",
    "            \"sumw\": processor.defaultdict_accumulator(float),\n",
    "            \"mumu_mass\": hist.Hist(\n",
    "                \"Events\",\n",
    "                hist.Cat(\"dataset\", \"Dataset\"),\n",
    "                hist.Bin(\"mass\", \"$m_{\\mu\\mu}$ [GeV]\", 60, 60, 120),\n",
    "            ),\n",
    "            \"ee_mass\": hist.Hist(\n",
    "                \"Events\",\n",
    "                hist.Cat(\"dataset\", \"Dataset\"),\n",
    "                hist.Bin(\"mass\", \"$m_{ee}$ [GeV]\", 60, 60, 120),\n",
    "            ),\n",
    "            \"mpt\": hist.Hist(\n",
    "                \"Events\",\n",
    "                hist.Cat(\"dataset\", \"Dataset\"),\n",
    "                hist.Bin(\"mpt\", \"$Missing p_{T}$ [GeV]\", 60, 60, 240),\n",
    "            ),\n",
    "            \"mpt_sd\": hist.Hist(\n",
    "                \"Events\",\n",
    "                hist.Cat(\"dataset\", \"Dataset\"),\n",
    "                hist.Bin(\"mpt\", \"$Missing p_{T}$ [GeV]\", 60, 60, 240),\n",
    "            ),\n",
    "            \"dphi_mpt_z\": hist.Hist(\n",
    "                \"Events\",\n",
    "                hist.Cat(\"dataset\", \"Dataset\"),\n",
    "                hist.Bin(\"dphi\", \"$\\Delta $phi$\", 60, -6.28, 6.28),\n",
    "            ),\n",
    "            \"dphi_mpt_sd_z\": hist.Hist(\n",
    "                \"Events\",\n",
    "                hist.Cat(\"dataset\", \"Dataset\"),\n",
    "                hist.Bin(\"dphi\", \"$\\Delta $phi$\", 60, -6.28, 6.28),\n",
    "            ),\n",
    "        })\n",
    "\n",
    "    @property\n",
    "    def accumulator(self):\n",
    "        return self._accumulator\n",
    "\n",
    "    def process(self, events):\n",
    "        output = self.accumulator.identity()\n",
    "\n",
    "        dataset = events.metadata['dataset']\n",
    "        gens = ak.zip({\n",
    "            \"pt\": events.gen_pt,\n",
    "            \"eta\": events.gen_eta,\n",
    "            \"phi\": events.gen_phi,\n",
    "            \"mass\": events.gen_m,\n",
    "            \"charge\": events.gen_id / np.abs(events.gen_id), \n",
    "            \"id\": events.gen_id\n",
    "        }, with_name=\"PtEtaPhiMCandidate\")\n",
    "        \n",
    "        mpt = ak.zip({\n",
    "            \"pt\": events.mpt_pt,\n",
    "            \"phi\": events.mpt_phi,\n",
    "            \"ptsd\": events.mpt_ptsd,\n",
    "            \"phisd\": events.mpt_phisd,            \n",
    "        })\n",
    "\n",
    "        muons = gens[ np.abs(gens.id) == 13 ]        \n",
    "        muons_cut = (ak.num(muons) == 2) & (ak.sum(muons.charge) == 0)\n",
    "        # add first and second muon in every event together\n",
    "        dimuon = muons[muons_cut][:, 0] + muons[muons_cut][:, 1]\n",
    "\n",
    "        electrons = gens[ np.abs(gens.id) == 11 ]\n",
    "        electrons_cut = (ak.num(electrons) == 2) & (ak.sum(electrons.charge) == 0)\n",
    "        # add first and second electron in every event together\n",
    "        dielectron = electrons[electrons_cut][:, 0] + electrons[electrons_cut][:, 1]\n",
    "\n",
    "\n",
    "        dphi_mumu = mpt.phi[muons_cut] - dimuon.phi        \n",
    "        dphi_mumu = (dphi_mumu + np.pi) % (2 * np.pi) - np.pi\n",
    "        print(dphi_mumu)\n",
    "        \n",
    "        output[\"sumw\"][dataset] += len(events)\n",
    "        output[\"mumu_mass\"].fill(\n",
    "            dataset=dataset,\n",
    "            mass=dimuon.mass,\n",
    "        )\n",
    "        \n",
    "        output[\"ee_mass\"].fill(\n",
    "            dataset=dataset,\n",
    "            mass=dielectron.mass,\n",
    "        )\n",
    "        \n",
    "        output[\"dphi_mpt_z\"].fill(\n",
    "            dataset=dataset,\n",
    "            dphi=dphi_mumu,\n",
    "        )\n",
    "        \n",
    "        \n",
    "        \n",
    "        return output\n",
    "\n",
    "    def postprocess(self, accumulator):\n",
    "        return accumulator"
   ]
  },
  {
   "cell_type": "code",
   "execution_count": 3,
   "id": "ab581471",
   "metadata": {},
   "outputs": [
    {
     "data": {
      "application/vnd.jupyter.widget-view+json": {
       "model_id": "50ce13f709964a25b975c48bfd9bc43a",
       "version_major": 2,
       "version_minor": 0
      },
      "text/plain": [
       "Preprocessing:   0%|          | 0/1 [00:00<?, ?file/s]"
      ]
     },
     "metadata": {},
     "output_type": "display_data"
    },
    {
     "data": {
      "application/vnd.jupyter.widget-view+json": {
       "model_id": "48572572fa404a219744a71685c3e693",
       "version_major": 2,
       "version_minor": 0
      },
      "text/plain": [
       "Processing:   0%|          | 0/1 [00:00<?, ?chunk/s]"
      ]
     },
     "metadata": {},
     "output_type": "display_data"
    },
    {
     "name": "stdout",
     "output_type": "stream",
     "text": [
      "[-3, 2.58, -3.12, 3.09, -2.97, -2.88, ... 3.08, 3.13, -3.02, 3.13, -2.65, -1.43]\n"
     ]
    },
    {
     "name": "stderr",
     "output_type": "stream",
     "text": [
      "/usr/local/lib/python3.8/dist-packages/awkward/_connect/_numpy.py:207: RuntimeWarning: invalid value encountered in sqrt\n",
      "  result = getattr(ufunc, method)(\n"
     ]
    },
    {
     "name": "stdout",
     "output_type": "stream",
     "text": [
      "{'sumw': defaultdict_accumulator(<class 'float'>, {'ZJets': 10000.0}), 'mumu_mass': <Hist (dataset,mass) instance at 0x7fe7ea2f23d0>, 'ee_mass': <Hist (dataset,mass) instance at 0x7fe7ea2f2d30>, 'mpt': <Hist (dataset,mpt) instance at 0x7fe7ea2f23a0>, 'mpt_sd': <Hist (dataset,mpt) instance at 0x7fe7ea2f2f10>, 'dphi_mpt_z': <Hist (dataset,dphi) instance at 0x7fe7ea2f2d00>, 'dphi_mpt_sd_z': <Hist (dataset,dphi) instance at 0x7fe7ea2f2940>}\n"
     ]
    }
   ],
   "source": [
    "import time\n",
    "\n",
    "tstart = time.time()\n",
    "\n",
    "fileset = {\n",
    "    'ZJets': [\n",
    "        'zjets_mpt.root'\n",
    "    ]\n",
    "}\n",
    "\n",
    "output = processor.run_uproot_job(\n",
    "    fileset,\n",
    "    treename='T',\n",
    "    processor_instance=MyProcessor(),\n",
    "    executor=processor.futures_executor,\n",
    "    executor_args={\"workers\": 4},\n",
    "    chunksize=100000,\n",
    "    maxchunks=None,\n",
    ")\n",
    "\n",
    "elapsed = time.time() - tstart\n",
    "print(output)"
   ]
  },
  {
   "cell_type": "code",
   "execution_count": 4,
   "id": "f95bd205",
   "metadata": {},
   "outputs": [
    {
     "data": {
      "image/png": "[encoded data removed]",
      "text/plain": [
       "<Figure size 432x288 with 1 Axes>"
      ]
     },
     "metadata": {
      "needs_background": "light"
     },
     "output_type": "display_data"
    }
   ],
   "source": [
    "ax = hist.plot1d(output[\"mumu_mass\"], overlay='dataset')"
   ]
  },
  {
   "cell_type": "code",
   "execution_count": 5,
   "id": "b55404c6",
   "metadata": {},
   "outputs": [
    {
     "data": {
      "image/png": "[encoded data removed]",
      "text/plain": [
       "<Figure size 432x288 with 1 Axes>"
      ]
     },
     "metadata": {
      "needs_background": "light"
     },
     "output_type": "display_data"
    }
   ],
   "source": [
    "ax = hist.plot1d(output[\"ee_mass\"], overlay='dataset')"
   ]
  },
  {
   "cell_type": "code",
   "execution_count": 6,
   "id": "f64c0fd9",
   "metadata": {},
   "outputs": [
    {
     "data": {
      "image/png": "[encoded data removed]",
      "text/plain": [
       "<Figure size 432x288 with 1 Axes>"
      ]
     },
     "metadata": {
      "needs_background": "light"
     },
     "output_type": "display_data"
    }
   ],
   "source": [
    "ax = hist.plot1d(output[\"dphi_mpt_z\"], overlay='dataset')"
   ]
  },
  {
   "cell_type": "code",
   "execution_count": null,
   "id": "84db4131",
   "metadata": {},
   "outputs": [],
   "source": []
  }
 ],
 "metadata": {
  "kernelspec": {
   "display_name": "Python 3 (ipykernel)",
   "language": "python",
   "name": "python3"
  },
  "language_info": {
   "codemirror_mode": {
    "name": "ipython",
    "version": 3
   },
   "file_extension": ".py",
   "mimetype": "text/x-python",
   "name": "python",
   "nbconvert_exporter": "python",
   "pygments_lexer": "ipython3",
   "version": "3.8.5"
  }
 },
 "nbformat": 4,
 "nbformat_minor": 5
}
