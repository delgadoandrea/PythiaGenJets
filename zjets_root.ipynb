{
 "cells": [
  {
   "cell_type": "markdown",
   "metadata": {},
   "source": [
    "# Plot  Simulated $Z+$jets Events\n",
    "\n",
    "These are ROOT files containing a TTree made from PYTHIA8 with Z+jets with [these instructions](https://github.com/rappoccio/PythiaGenJets) and with [this configuration](https://github.com/rappoccio/PythiaGenJets/blob/master/test_run_all.cfg). The interaction energy is required to be larger than 150 GeV at the generator level. "
   ]
  },
  {
   "cell_type": "markdown",
   "metadata": {},
   "source": [
    "#### Uncomment these if you need to make / run pythia2root"
   ]
  },
  {
   "cell_type": "code",
   "execution_count": null,
   "metadata": {},
   "outputs": [],
   "source": [
    "#! make pythia2root"
   ]
  },
  {
   "cell_type": "code",
   "execution_count": null,
   "metadata": {},
   "outputs": [],
   "source": [
    "#! ./pythia2root test_run_all.cfg test.root 10000"
   ]
  },
  {
   "cell_type": "markdown",
   "metadata": {},
   "source": [
    "### Import python libraries for ROOT, fastjet, pythia8"
   ]
  },
  {
   "cell_type": "code",
   "execution_count": null,
   "metadata": {},
   "outputs": [],
   "source": [
    "import ROOT"
   ]
  },
  {
   "cell_type": "markdown",
   "metadata": {},
   "source": [
    "### Get the TTree"
   ]
  },
  {
   "cell_type": "code",
   "execution_count": null,
   "metadata": {},
   "outputs": [],
   "source": [
    "\n",
    "f = ROOT.TFile(\"test.root\")\n",
    "t = f.Get(\"T\")\n",
    "\n",
    "ROOT.gStyle.SetPadLeftMargin(0.2)\n",
    "ROOT.gStyle.SetOptStat(000000)\n",
    "ROOT.gStyle.SetTitleOffset(1.5, \"X\")"
   ]
  },
  {
   "cell_type": "markdown",
   "metadata": {},
   "source": [
    "### Make a canvas, draw a variable \n",
    "\n",
    "We will draw the logarithm of the ratio of the jet mass to the jet transverse momentum, $\\rho = m/p_{T}$. \n",
    "\n",
    "The distribution here will be:\n",
    "\n",
    "\\begin{equation}\n",
    "\\frac{\\rho}{N}\\frac{dN}{d\\rho}\n",
    "\\end{equation}\n",
    "\n",
    "We plot this quantity because it approximates the differential cross section with respect to $\\log{\\rho}$. "
   ]
  },
  {
   "cell_type": "code",
   "execution_count": null,
   "metadata": {},
   "outputs": [],
   "source": [
    "# Make a canvas:\n",
    "c1 = ROOT.TCanvas(\"c1\", \"c1\")\n",
    "# Create a histogram with the bins we like.\n",
    "# Syntax is \"name\", \"title\", Nbins, xmin, xmax\n",
    "h_rho = ROOT.TH1F(\"h_rho\", \";log_{10}#left[ (m/p_{T})^{2} #right];#frac{#rho}{N}#frac{dN}{d#rho}\", 16, -4.5, 1.5)\n",
    "# Draw the histogram. The cuts are pt > 250 GeV and m > 0.05 GeV. \n",
    "# We also apply a weight of m/pt to approximate taking the derivative wrt log(rho)\n",
    "t.Draw(\"2*log10(jet_m[0] / jet_pt[0]) >> h_rho\", \"jet_pt[0] > 250 * jet_m[0] > 0.05 * jet_m[0]/jet_pt[0]\")\n",
    "# Scale the histogram by the number of entries. \n",
    "h_rho.Scale(1.0/h_rho.GetEntries())\n",
    "# Plot the histogram on the canvas\n",
    "h_rho.Draw()\n",
    "# Plot the canvas\n",
    "c1.Draw()"
   ]
  },
  {
   "cell_type": "code",
   "execution_count": null,
   "metadata": {},
   "outputs": [],
   "source": []
  }
 ],
 "metadata": {
  "kernelspec": {
   "display_name": "Python 3",
   "language": "python",
   "name": "python3"
  },
  "language_info": {
   "codemirror_mode": {
    "name": "ipython",
    "version": 3
   },
   "file_extension": ".py",
   "mimetype": "text/x-python",
   "name": "python",
   "nbconvert_exporter": "python",
   "pygments_lexer": "ipython3",
   "version": "3.8.2"
  }
 },
 "nbformat": 4,
 "nbformat_minor": 2
}
