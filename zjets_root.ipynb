{
 "cells": [
  {
   "cell_type": "markdown",
   "metadata": {},
   "source": [
    "# Plot  Simulated $Z+$jets Events\n",
    "\n",
    "These are ROOT files containing a TTree made from PYTHIA8 with Z+jets with [these instructions](https://github.com/rappoccio/PythiaGenJets) and with [this configuration](https://github.com/rappoccio/PythiaGenJets/blob/master/test_run_all.cfg). The interaction energy is required to be larger than 150 GeV at the generator level. "
   ]
  },
  {
   "cell_type": "markdown",
   "metadata": {},
   "source": [
    "### Import python libraries for ROOT, fastjet, pythia8"
   ]
  },
  {
   "cell_type": "code",
   "execution_count": 1,
   "metadata": {},
   "outputs": [
    {
     "name": "stdout",
     "output_type": "stream",
     "text": [
      "Welcome to JupyROOT 6.12/07\n"
     ]
    }
   ],
   "source": [
    "import ROOT\n",
    "import fastjet\n",
    "import pythia8"
   ]
  },
  {
   "cell_type": "markdown",
   "metadata": {},
   "source": [
    "### Load the libraries from pythia8, open the file, and get the TTree"
   ]
  },
  {
   "cell_type": "code",
   "execution_count": 48,
   "metadata": {},
   "outputs": [],
   "source": [
    "%jsroot on\n",
    "\n",
    "ROOT.gSystem.Load(\"/app/pythia8235/lib/libpythia8.so\")\n",
    "f = ROOT.TFile(\"~/results/zjets_pt170.root\")\n",
    "t = f.Get(\"T\")\n",
    "\n",
    "ROOT.gStyle.SetPadLeftMargin(0.2)\n",
    "ROOT.gStyle.SetOptStat(000000)\n",
    "ROOT.gStyle.SetTitleOffset(1.5, \"X\")"
   ]
  },
  {
   "cell_type": "markdown",
   "metadata": {},
   "source": [
    "### Make a canvas, draw a variable \n",
    "\n",
    "We will draw the logarithm of the ratio of the jet mass to the jet transverse momentum, $\\rho = m/p_{T}$. \n",
    "\n",
    "The distribution here will be:\n",
    "\n",
    "\\begin{equation}\n",
    "\\frac{\\rho}{N}\\frac{dN}{d\\rho}\n",
    "\\end{equation}\n",
    "\n",
    "We plot this quantity because it approximates the differential cross section with respect to $\\log{\\rho}$. "
   ]
  },
  {
   "cell_type": "code",
   "execution_count": 57,
   "metadata": {},
   "outputs": [
    {
     "name": "stderr",
     "output_type": "stream",
     "text": [
      "Warning in <TCanvas::Constructor>: Deleting canvas with same name: c1\n",
      "Warning in <TFile::Append>: Replacing existing TH1: h_rho (Potential memory leak).\n"
     ]
    },
    {
     "data": {
      "text/html": [
       "\n",
       "<div id=\"root_plot_45\"\n",
       "     style=\"width: 696px; height: 472px\">\n",
       "</div>\n",
       "\n",
       "<script>\n",
       " requirejs.config({\n",
       "     paths: {\n",
       "       'JSRootCore' : 'https://root.cern.ch/js/notebook//scripts/JSRootCore',\n",
       "     }\n",
       "   });\n",
       " require(['JSRootCore'],\n",
       "     function(Core) {\n",
       "       var obj = Core.JSONR_unref({\"_typename\":\"TCanvas\",\"fUniqueID\":0,\"fBits\":53673992,\"fLineColor\":1,\"fLineStyle\":1,\"fLineWidth\":1,\"fFillColor\":0,\"fFillStyle\":1001,\"fLeftMargin\":0.2,\"fRightMargin\":0.1,\"fBottomMargin\":0.1,\"fTopMargin\":0.1,\"fXfile\":2,\"fYfile\":2,\"fAfile\":1,\"fXstat\":0.99,\"fYstat\":0.99,\"fAstat\":2,\"fFrameFillColor\":0,\"fFrameLineColor\":1,\"fFrameFillStyle\":1001,\"fFrameLineStyle\":1,\"fFrameLineWidth\":1,\"fFrameBorderSize\":1,\"fFrameBorderMode\":0,\"fX1\":-5.64285717934978,\"fY1\":-0.0371278878062785,\"fX2\":0.0714285896748915,\"fY2\":0.334150968126561,\"fXtoAbsPixelk\":687.300047860938,\"fXtoPixelk\":687.300047860938,\"fXtoPixel\":121.799998833239,\"fYtoAbsPixelk\":424.800047186661,\"fYtoPixelk\":424.800047186661,\"fYtoPixel\":-1271.28165921029,\"fUtoAbsPixelk\":5e-5,\"fUtoPixelk\":5e-5,\"fUtoPixel\":696,\"fVtoAbsPixelk\":472.00005,\"fVtoPixelk\":472,\"fVtoPixel\":-472,\"fAbsPixeltoXk\":-5.64285717934978,\"fPixeltoXk\":-5.64285717934978,\"fPixeltoX\":0.00821018070262166,\"fAbsPixeltoYk\":0.334150968126561,\"fPixeltoYk\":-0.0371278878062785,\"fPixeltoY\":-7.86607745620423e-4,\"fXlowNDC\":0,\"fYlowNDC\":0,\"fXUpNDC\":0,\"fYUpNDC\":0,\"fWNDC\":1,\"fHNDC\":1,\"fAbsXlowNDC\":0,\"fAbsYlowNDC\":0,\"fAbsWNDC\":1,\"fAbsHNDC\":1,\"fUxmin\":-4.5,\"fUymin\":0,\"fUxmax\":-0.5,\"fUymax\":0.297023080320283,\"fTheta\":30,\"fPhi\":30,\"fAspectRatio\":0,\"fNumber\":0,\"fTickx\":0,\"fTicky\":0,\"fLogx\":0,\"fLogy\":0,\"fLogz\":0,\"fPadPaint\":0,\"fCrosshair\":0,\"fCrosshairPos\":0,\"fBorderSize\":2,\"fBorderMode\":0,\"fModified\":false,\"fGridx\":false,\"fGridy\":false,\"fAbsCoord\":false,\"fEditable\":true,\"fFixedAspectRatio\":false,\"fPrimitives\":{\"_typename\":\"TList\",\"name\":\"TList\",\"arr\":[{\"_typename\":\"TFrame\",\"fUniqueID\":0,\"fBits\":50331656,\"fLineColor\":1,\"fLineStyle\":1,\"fLineWidth\":1,\"fFillColor\":0,\"fFillStyle\":1001,\"fX1\":-4.5,\"fY1\":0,\"fX2\":-0.5,\"fY2\":0.297023080320283,\"fBorderSize\":1,\"fBorderMode\":0},{\"_typename\":\"TH1F\",\"fUniqueID\":0,\"fBits\":50332168,\"fName\":\"h_rho\",\"fTitle\":\"\",\"fLineColor\":602,\"fLineStyle\":1,\"fLineWidth\":1,\"fFillColor\":0,\"fFillStyle\":1001,\"fMarkerColor\":1,\"fMarkerStyle\":1,\"fMarkerSize\":1,\"fNcells\":18,\"fXaxis\":{\"_typename\":\"TAxis\",\"fUniqueID\":0,\"fBits\":50331648,\"fName\":\"xaxis\",\"fTitle\":\"log_{10}#left[ (m\\/p_{T})^{2} #right]\",\"fNdivisions\":510,\"fAxisColor\":1,\"fLabelColor\":1,\"fLabelFont\":42,\"fLabelOffset\":0.005,\"fLabelSize\":0.035,\"fTickLength\":0.03,\"fTitleOffset\":1.5,\"fTitleSize\":0.035,\"fTitleColor\":1,\"fTitleFont\":42,\"fNbins\":16,\"fXmin\":-4.5,\"fXmax\":-0.5,\"fXbins\":[],\"fFirst\":0,\"fLast\":0,\"fBits2\":0,\"fTimeDisplay\":false,\"fTimeFormat\":\"\",\"fLabels\":null,\"fModLabs\":null},\"fYaxis\":{\"_typename\":\"TAxis\",\"fUniqueID\":0,\"fBits\":50331648,\"fName\":\"yaxis\",\"fTitle\":\"#frac{#rho}{N}#frac{dN}{d#rho}\",\"fNdivisions\":510,\"fAxisColor\":1,\"fLabelColor\":1,\"fLabelFont\":42,\"fLabelOffset\":0.005,\"fLabelSize\":0.035,\"fTickLength\":0.03,\"fTitleOffset\":0,\"fTitleSize\":0.035,\"fTitleColor\":1,\"fTitleFont\":42,\"fNbins\":1,\"fXmin\":0,\"fXmax\":1,\"fXbins\":[],\"fFirst\":0,\"fLast\":0,\"fBits2\":0,\"fTimeDisplay\":false,\"fTimeFormat\":\"\",\"fLabels\":null,\"fModLabs\":null},\"fZaxis\":{\"_typename\":\"TAxis\",\"fUniqueID\":0,\"fBits\":50331648,\"fName\":\"zaxis\",\"fTitle\":\"\",\"fNdivisions\":510,\"fAxisColor\":1,\"fLabelColor\":1,\"fLabelFont\":42,\"fLabelOffset\":0.005,\"fLabelSize\":0.035,\"fTickLength\":0.03,\"fTitleOffset\":1,\"fTitleSize\":0.035,\"fTitleColor\":1,\"fTitleFont\":42,\"fNbins\":1,\"fXmin\":0,\"fXmax\":1,\"fXbins\":[],\"fFirst\":0,\"fLast\":0,\"fBits2\":0,\"fTimeDisplay\":false,\"fTimeFormat\":\"\",\"fLabels\":null,\"fModLabs\":null},\"fBarOffset\":0,\"fBarWidth\":1000,\"fEntries\":26069,\"fTsumw\":25916,\"fTsumw2\":25916,\"fTsumwx\":-39603.7710524282,\"fTsumwx2\":66532.4876962297,\"fMaximum\":-1111,\"fMinimum\":-1111,\"fNormFactor\":0,\"fContour\":[],\"fSumw2\":[2.19248951064092e-7,1.91291031129744e-8,3.53152672854913e-8,5.73873093389233e-8,6.62161261602962e-8,1.03002862916016e-7,2.53092748879354e-7,4.14954390604523e-7,6.7687595630525e-7,1.30813635903341e-6,2.43969638163936e-6,4.3629069792284e-6,6.75257339887998e-6,1.07255409684978e-5,7.37794792372722e-6,3.17984552516444e-6,3.61981489676286e-7,5.88587788091521e-9],\"fOption\":\"\",\"fFunctions\":{\"_typename\":\"TList\",\"name\":\"TList\",\"arr\":[],\"opt\":[]},\"fBufferSize\":0,\"fBuffer\":[],\"fBinStatErrOpt\":0,\"fStatOverflows\":2,\"fArray\":[0.005715601,4.986766e-4,9.206337e-4,0.00149603,0.001726188,0.002685182,0.006597875,0.01081745,0.01764548,0.03410181,0.06360044,0.1137366,0.1760328,0.2796041,0.1923357,0.08289539,0.009436496,1.534389e-4]}],\"opt\":[\"\",\"\"]},\"fExecs\":null,\"fName\":\"c1\",\"fTitle\":\"c1\",\"fNumPaletteColor\":0,\"fNextPaletteColor\":0,\"fDISPLAY\":\"$DISPLAY\",\"fDoubleBuffer\":0,\"fRetained\":true,\"fXsizeUser\":0,\"fYsizeUser\":0,\"fXsizeReal\":20,\"fYsizeReal\":14.28571,\"fWindowTopX\":0,\"fWindowTopY\":0,\"fWindowWidth\":0,\"fWindowHeight\":0,\"fCw\":696,\"fCh\":472,\"fCatt\":{\"_typename\":\"TAttCanvas\",\"fXBetween\":2,\"fYBetween\":2,\"fTitleFromTop\":1.2,\"fXdate\":0.2,\"fYdate\":0.3,\"fAdate\":1},\"kMoveOpaque\":true,\"kResizeOpaque\":true,\"fHighLightColor\":2,\"fBatch\":true,\"kShowEventStatus\":false,\"kAutoExec\":true,\"kMenuBar\":true});\n",
       "       Core.draw(\"root_plot_45\", obj, \"\");\n",
       "     }\n",
       " );\n",
       "</script>\n"
      ],
      "text/plain": [
       "<IPython.core.display.HTML object>"
      ]
     },
     "metadata": {},
     "output_type": "display_data"
    }
   ],
   "source": [
    "# Make a canvas:\n",
    "c1 = ROOT.TCanvas(\"c1\", \"c1\")\n",
    "# Create a histogram with the bins we like.\n",
    "# Syntax is \"name\", \"title\", Nbins, xmin, xmax\n",
    "h_rho = ROOT.TH1F(\"h_rho\", \";log_{10}#left[ (m/p_{T})^{2} #right];#frac{#rho}{N}#frac{dN}{d#rho}\", 16, -4.5, -0.5)\n",
    "# Draw the histogram. The cuts are pt > 250 GeV and m > 0.05 GeV. \n",
    "# We also apply a weight of m/pt to approximate taking the derivative wrt log(rho)\n",
    "t.Draw(\"2*log10(jet_m[0] / jet_pt[0]) >> h_rho\", \"jet_pt[0] > 250 * jet_m[0] > 0.05 * jet_m[0]/jet_pt[0]\")\n",
    "# Scale the histogram by the number of entries. \n",
    "h_rho.Scale(1.0/h_rho.GetEntries())\n",
    "# Plot the histogram on the canvas\n",
    "h_rho.Draw()\n",
    "# Plot the canvas\n",
    "c1.Draw()"
   ]
  },
  {
   "cell_type": "code",
   "execution_count": null,
   "metadata": {},
   "outputs": [],
   "source": []
  }
 ],
 "metadata": {
  "kernelspec": {
   "display_name": "Python 2",
   "language": "python",
   "name": "python2"
  },
  "language_info": {
   "codemirror_mode": {
    "name": "ipython",
    "version": 2
   },
   "file_extension": ".py",
   "mimetype": "text/x-python",
   "name": "python",
   "nbconvert_exporter": "python",
   "pygments_lexer": "ipython2",
   "version": "2.7.12"
  }
 },
 "nbformat": 4,
 "nbformat_minor": 2
}
