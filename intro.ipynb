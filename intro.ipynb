{
 "cells": [
  {
   "cell_type": "markdown",
   "metadata": {},
   "source": [
    "# Introduction to Z boson : Theory overview\n",
    "\n",
    "<img src=\"Images/Z-boson_1024x1024.jpg\" alt=\"Z boson\" width=\"300px\"/>\n",
    "\n",
    "\n",
    "## Overview of the Z boson\n",
    "\n",
    "The [Z boson](https://en.wikipedia.org/wiki/W_and_Z_bosons) is a spin-1 [boson](https://en.wikipedia.org/wiki/Boson) that is a carrier of the [weak interaction](https://en.wikipedia.org/wiki/Weak_interaction). It is a neutral particle that quantum mechanically [interferes](https://en.wikipedia.org/wiki/Wave_interference) with the [photon](https://en.wikipedia.org/wiki/Photon), the carrier of the [electromagnetic interaction in quantum electrodynamics (QED)](https://en.wikipedia.org/wiki/Quantum_electrodynamics).   \n",
    "\n",
    "Although the photon is massless, and thus gives E+M its long-range nature, the mass of the Z boson is very large, 90 GeV (about the mass of a zirconium atom). This means the weak interaction is, well, weak! It is extremely short-ranged. This is a good thing, because if it weren't, the sun would not be able to undergo its nuclear fusion cycle, and [neutrinos](https://en.wikipedia.org/wiki/Neutrino) would react with electrons in atoms with astonishing regularity, breaking ionic structure. \n",
    "\n",
    "## The electroweak symmetry\n",
    "\n",
    "If the Z boson were massless, the electromagnetic and weak interactions would be perfectly described by the same quantum field with an $SU(2)\\times U(1)$ symmetry, the [electroweak interaction](https://en.wikipedia.org/wiki/Electroweak_interaction). The $U(1)$ part is the same as the standard QED interaction. The $SU(2)$ part is the weak interaction, and operates on an abstract quantum number called [weak isospoin](https://en.wikipedia.org/wiki/Weak_isospin). This operates similarly to the quantum mechanical spin of spin-1 particles, but on weak isospin instead of regular spin. \n",
    "\n",
    "\n",
    "## Electroweak symmetry breaking and the Higgs boson\n",
    "\n",
    "The reason the Z boson and the photon do not behave identically is because the Z boson obtains a mass via interactions with the [Higgs boson](https://en.wikipedia.org/wiki/Higgs_boson), resulting in a breaking of the electroweak symmetry, hence, this is referred to as [electroweak symmetry breaking, or EWSB](https://en.wikipedia.org/wiki/Higgs_mechanism). The Z boson interacts with the Higgs, however the photon does not. As such, the electromagnetic and weak interactions have vastly different strengths. \n",
    "\n",
    "\n",
    "## Interactions of Z bosons at colliders\n",
    "\n",
    "The fundamental interaction for QED is $e^+e^- \\to \\gamma \\to e^+e^-$. \n",
    "\n",
    "<img src=\"Images/simple-feynman-diagram.jpg\" alt=\"QED interaction\" width=\"200px\"/>\n",
    "\n",
    "Alternatively, quarks can interact with the photon as well, so that $e^+e^-$ production can occur at hadron colliders. However, *so can the Z boson*, and hence quantum mechanically, we cannot know definitively which will occur, but only their relative probabilities. So, at a hadron collider with a center-of-mass energy larger than 90 GeV, the Z boson or a virtual photon will be produced, then subsequently decay into two leptons (or quarks). This is referred to as  [Drell-Yan production](https://en.wikipedia.org/wiki/Drellâ€“Yan_process). \n",
    "\n",
    "<img src=\"Images/drellyan.jpg\" alt=\"Drell Yan Process\" width=\"200px\"/>\n",
    "\n",
    "We cannot directly observe the Z boson (or the virtual photons) in the above diagram. They must be indirectly measured via their decay products. The simplest decay products to detect are electrons or muons. As such, we can observe the electrons or muons and infer the properties of the Z boson via their kinematic properties. \n",
    "\n",
    "\n",
    "## Decay products of the Z boson\n",
    "\n",
    "The Z boson will decay into two leptons or two quarks. The kinematic properties of the Z boson can be inferred from the kinematic properties of the measured leptons or quarks (in the latter case, quarks are themselves observed indirectly as they hadronize and fragment into [jets](https://en.wikipedia.org/wiki/Jet_(particle_physics)), but more on that later). We will start by looking at the kinematic properties of the leptons. \n",
    "\n",
    "\n",
    "## Coordinate system\n",
    "\n",
    "\n",
    "The three-momentum is ordinarily represented as a vector $\\vec{p} = (p_x,p_y,p_z)$. The $z$ axis is along the beam axis for one of the beams, with $z=0$ near the center of the detector. The $y$ axis is up. The $x$ axis, to make a right-handed coordinate system, points inward. The azimuthal angle $\\phi$ encircles the $z$ axis, and the polar angle $\\theta$ is with respect to the $z$ axis. Typically, the physics we investigate is symmetric around the azimuthal angle, so we investigate the transverse component of the momentum, $p_T = \\sqrt{p_x^2 + p_y^2}$. The angles $\\phi$ and $\\theta$ are defined such that $\\tan{\\phi} = p_y/p_x$ and $\\tan{\\theta} = p_T / p_Z$. \n",
    "\n",
    "\n",
    "However, proton colliders use a strange coordinate system. That is because ordinary space is as Euclidean geometry, but special relativity prefers a hyperbolic geometry. The momentum of the protons in the transverse direction is very close to zero. However, there is enormous energy along the $z$ direction, where the protons are moving hyper-relativistically. The Euclidean geometric symmetry is spoiled because the value of $p_z$ is not the same in the lab and center-of-mass frames. \n",
    "\n",
    "As such, we adjust our coordinates accordingly. It turns out that a relativistically invariant version is the [rapidity](https://en.wikipedia.org/wiki/Rapidity): \n",
    "\n",
    "\\begin{equation}\n",
    "y = \\frac{1}{2}\\ln{\\left(\\frac{p + p_z}{p - p_z}\\right)}\n",
    "\\end{equation}\n",
    "\n",
    "where $p$ is the magnitude of the momentum. \n",
    "\n",
    "However, most particles are moving very relativistically, so we often use the approximation that $m=0$, in which case the rapidity can be replaced by the [pseudorapidity](particle physics coordinates), $\\eta$. It has a simple transformation to the polar angle $\\theta$:\n",
    "\n",
    "\\begin{equation}\n",
    "\\eta = -\\ln{\\left( \\tan{\\theta/2}\\right)}\n",
    "\\end{equation}\n",
    "\n",
    "\n",
    "We therefore represent the three-momentum in terms of $p_T, \\theta, \\eta$, and then the invariant mass is denoted as $m$. \n"
   ]
  },
  {
   "cell_type": "markdown",
   "metadata": {},
   "source": [
    "## Plotting the momentum, azimuthal angle, and pseudorapidity of the Z boson\n",
    "\n",
    "We are now in a position to investigate the kinematics of some simulated Z boson events in the CMS experiment. These events are simulated to have Z bosons, which decay to either two electrons or two muons, produced in association with additional quarks. This gives the Z bosons a non-zero transverse momentum. \n",
    "\n",
    "\n",
    "The next stage is to follow the example [here](http://nbviewer.jupyter.org/github/dpiparo/swanExamples/blob/master/notebooks/CMSDimuon_py.ipynb). "
   ]
  },
  {
   "cell_type": "code",
   "execution_count": null,
   "metadata": {},
   "outputs": [],
   "source": [
    "\n",
    "\n",
    "\n"
   ]
  }
 ],
 "metadata": {
  "kernelspec": {
   "display_name": "Python 2",
   "language": "python",
   "name": "python2"
  },
  "language_info": {
   "codemirror_mode": {
    "name": "ipython",
    "version": 2
   },
   "file_extension": ".py",
   "mimetype": "text/x-python",
   "name": "python",
   "nbconvert_exporter": "python",
   "pygments_lexer": "ipython2",
   "version": "2.7.12"
  }
 },
 "nbformat": 4,
 "nbformat_minor": 2
}
